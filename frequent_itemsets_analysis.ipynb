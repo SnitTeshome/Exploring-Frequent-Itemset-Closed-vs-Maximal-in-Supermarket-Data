{
 "cells": [
  {
   "cell_type": "markdown",
   "id": "2cfc5d5b",
   "metadata": {},
   "source": [
    "## *Exploring Frequent Itemsets: Closed vs Maximal in Supermarket Data*"
   ]
  },
  {
   "cell_type": "markdown",
   "id": "4596a67a",
   "metadata": {},
   "source": [
    "#### *[Student: Mohammed] Import necessary libraries*"
   ]
  },
  {
   "cell_type": "code",
   "execution_count": 2,
   "id": "00e6489f",
   "metadata": {},
   "outputs": [],
   "source": [
    "import pandas as pd\n",
    "import random\n",
    "from mlxtend.frequent_patterns import apriori\n",
    "import random"
   ]
  },
  {
   "cell_type": "markdown",
   "id": "07a3acc6",
   "metadata": {},
   "source": [
    "##### *Generate 3000 supermarket transactions*\n",
    "##### *Each transaction will have between 2 and 7 items randomly chosen from a pool of 30 unique items*"
   ]
  },
  {
   "cell_type": "code",
   "execution_count": null,
   "id": "43e1aed9",
   "metadata": {},
   "outputs": [],
   "source": [
    "# Generate 3000 supermarket transactions\n",
    "# Each transaction will have between 2 and 7 items randomly chosen from a pool of 30 unique items\n",
    "\n",
    "# [Student: Mohammed] Define the item pool\n",
    "item_pool = [\n",
    "    'Milk', 'Bread', 'Butter', 'Eggs', 'Cheese', 'Apples', 'Bananas', 'Chicken',\n",
    "    'Beef', 'Fish', 'Rice', 'Pasta', 'Cereal', 'Juice', 'Soda', 'Yogurt',\n",
    "    'Tomatoes', 'Onions', 'Potatoes', 'Carrots', 'Cookies', 'Chips', 'Ice Cream',\n",
    "    'Coffee', 'Tea', 'Sugar', 'Flour', 'Salt', 'Pepper', 'Oil'\n",
    "]\n",
    "\n",
    "# generate transactions\n",
    "random.seed(42)  # For reproducibility\n",
    "transactions = []\n",
    "for _ in range(3000):\n",
    "    transaction = random.sample(item_pool, k=random.randint(2, 7))  # 2 to 7 items per transaction\n",
    "    transactions.append(transaction)\n",
    "# Save as CSV\n",
    "df_transactions = pd.DataFrame({'Transaction': transactions})  # Creating a DataFrame from the transactions list\n",
    "df_transactions.to_csv('data/supermarket_transactions.csv', index=False)  # Saving the DataFrame to a CSV file\n",
    "df_transactions.head()  # Displaying the first few transactions"
   ]
  },
  {
   "cell_type": "code",
   "execution_count": null,
   "id": "d279efa6",
   "metadata": {},
   "outputs": [],
   "source": [
    "# [Student: Snit] Import required libraries\n",
    "from collections import defaultdict\n",
    "import pandas as pd\n",
    "\n",
    "# [Student: Snit] Sample dataset with 5 transactions (each a set of items)\n",
    "transactions = [\n",
    "    {\"A\", \"B\", \"C\"},\n",
    "    {\"A\", \"B\"},\n",
    "    {\"A\", \"C\"},\n",
    "    {\"B\", \"C\"},\n",
    "    {\"A\", \"B\", \"C\"},\n",
    "]\n",
    "\n",
    "# [Student: Snit] Initialize a dictionary to count support for all item combinations\n",
    "support_count = defaultdict(int)\n",
    "\n",
    "for t in transactions:\n",
    "    # Count support for individual items\n",
    "    for item in t:\n",
    "        support_count[frozenset([item])] += 1\n",
    "    \n",
    "    # Count support for all item pairs\n",
    "    for i1 in t:\n",
    "        for i2 in t:\n",
    "            if i1 < i2:\n",
    "                support_count[frozenset([i1, i2])] += 1\n",
    "\n",
    "    # Count support for triple itemsets (only if all three items present)\n",
    "    if len(t) == 3:\n",
    "        support_count[frozenset(t)] += 1\n",
    "\n",
    "# [Student: Snit] Identify closed itemsets\n",
    "# A closed itemset has no superset with the same support\n",
    "closed_itemsets = []\n",
    "for itemset in support_count:\n",
    "    is_closed = True\n",
    "    for other in support_count:\n",
    "        if itemset < other and support_count[itemset] == support_count[other]:\n",
    "            is_closed = False\n",
    "            break\n",
    "    if is_closed:\n",
    "        closed_itemsets.append((set(itemset), support_count[itemset]))\n",
    "\n",
    "# [Student: Snit] Display closed itemsets and their support\n",
    "print(\"Closed Frequent Itemsets:\")\n",
    "for itemset, count in closed_itemsets:\n",
    "    print(f\"{itemset} -> support: {count}\")\n",
    "\n",
    "# [Student: Snit] Save closed itemsets to a CSV file inside the data folder\n",
    "closed_df = pd.DataFrame(closed_itemsets, columns=[\"Itemset\", \"Support\"])\n",
    "closed_df.to_csv(\"data/manual_closed_itemsets.csv\", index=False)\n"
   ]
  }
 ],
 "metadata": {
  "kernelspec": {
   "display_name": "base",
   "language": "python",
   "name": "python3"
  },
  "language_info": {
   "codemirror_mode": {
    "name": "ipython",
    "version": 3
   },
   "file_extension": ".py",
   "mimetype": "text/x-python",
   "name": "python",
   "nbconvert_exporter": "python",
   "pygments_lexer": "ipython3",
   "version": "3.12.7"
  }
 },
 "nbformat": 4,
 "nbformat_minor": 5
}
