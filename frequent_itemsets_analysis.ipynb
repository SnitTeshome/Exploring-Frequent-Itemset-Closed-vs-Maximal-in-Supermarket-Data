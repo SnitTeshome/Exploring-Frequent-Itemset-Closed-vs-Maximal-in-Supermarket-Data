{
 "cells": [
  {
   "cell_type": "code",
   "execution_count": 2,
   "id": "a4ebd614",
   "metadata": {},
   "outputs": [
    {
     "name": "stdout",
     "output_type": "stream",
     "text": [
      "Folder 'data' created.\n"
     ]
    }
   ],
   "source": [
    "import os\n",
    "\n",
    "# [Student: Mohamed] Create folder 'data' if it doesn't exist\n",
    "folder_path = \"data\"\n",
    "if not os.path.exists(folder_path):\n",
    "    os.makedirs(folder_path)\n",
    "    print(f\"Folder '{folder_path}' created.\")\n",
    "else:\n",
    "    print(f\"Folder '{folder_path}' already exists.\")\n"
   ]
  },
  {
   "cell_type": "code",
   "execution_count": null,
   "id": "02f0df23",
   "metadata": {},
   "outputs": [
    {
     "data": {
      "text/html": [
       "<div>\n",
       "<style scoped>\n",
       "    .dataframe tbody tr th:only-of-type {\n",
       "        vertical-align: middle;\n",
       "    }\n",
       "\n",
       "    .dataframe tbody tr th {\n",
       "        vertical-align: top;\n",
       "    }\n",
       "\n",
       "    .dataframe thead th {\n",
       "        text-align: right;\n",
       "    }\n",
       "</style>\n",
       "<table border=\"1\" class=\"dataframe\">\n",
       "  <thead>\n",
       "    <tr style=\"text-align: right;\">\n",
       "      <th></th>\n",
       "      <th>Transaction</th>\n",
       "    </tr>\n",
       "  </thead>\n",
       "  <tbody>\n",
       "    <tr>\n",
       "      <th>0</th>\n",
       "      <td>[Cereal, Toilet Paper, Tea]</td>\n",
       "    </tr>\n",
       "    <tr>\n",
       "      <th>1</th>\n",
       "      <td>[Carrots, Tea, Bananas]</td>\n",
       "    </tr>\n",
       "    <tr>\n",
       "      <th>2</th>\n",
       "      <td>[Cooking Oil, Oranges, Eggs, Cheese, Tomatoes]</td>\n",
       "    </tr>\n",
       "    <tr>\n",
       "      <th>3</th>\n",
       "      <td>[Coffee, Salt, Bananas, Rice]</td>\n",
       "    </tr>\n",
       "    <tr>\n",
       "      <th>4</th>\n",
       "      <td>[Beef, Tea]</td>\n",
       "    </tr>\n",
       "  </tbody>\n",
       "</table>\n",
       "</div>"
      ],
      "text/plain": [
       "                                      Transaction\n",
       "0                     [Cereal, Toilet Paper, Tea]\n",
       "1                         [Carrots, Tea, Bananas]\n",
       "2  [Cooking Oil, Oranges, Eggs, Cheese, Tomatoes]\n",
       "3                   [Coffee, Salt, Bananas, Rice]\n",
       "4                                     [Beef, Tea]"
      ]
     },
     "execution_count": 4,
     "metadata": {},
     "output_type": "execute_result"
    }
   ],
   "source": [
    "# [Student: Mohamed] Simulating 3000 transactions \n",
    "import pandas as pd\n",
    "import random\n",
    "\n",
    "item_pool = [\n",
    "    \"Milk\", \"Bread\", \"Eggs\", \"Butter\", \"Cheese\", \"Apples\", \"Bananas\", \"Oranges\",\n",
    "    \"Chicken\", \"Beef\", \"Pasta\", \"Rice\", \"Tomatoes\", \"Onions\", \"Potatoes\",\n",
    "    \"Lettuce\", \"Cucumber\", \"Carrots\", \"Yogurt\", \"Juice\", \"Cereal\", \"Coffee\",\n",
    "    \"Tea\", \"Sugar\", \"Salt\", \"Cooking Oil\", \"Flour\", \"Toilet Paper\", \"Soap\", \"Shampoo\"\n",
    "]\n",
    "\n",
    "transactions = []\n",
    "for _ in range(3000):\n",
    "    num_items = random.randint(2, 7)\n",
    "    transaction = random.sample(item_pool, num_items)\n",
    "    transactions.append(transaction)\n",
    "\n",
    "# Save as CSV\n",
    "df_transactions = pd.DataFrame({'Transaction': transactions})\n",
    "df_transactions.to_csv('data/supermarket_transactions.csv', index=False)\n",
    "df_transactions.head()  # Displaying the first few transactions"
   ]
  }
 ],
 "metadata": {
  "kernelspec": {
   "display_name": "Python 3",
   "language": "python",
   "name": "python3"
  },
  "language_info": {
   "codemirror_mode": {
    "name": "ipython",
    "version": 3
   },
   "file_extension": ".py",
   "mimetype": "text/x-python",
   "name": "python",
   "nbconvert_exporter": "python",
   "pygments_lexer": "ipython3",
   "version": "3.12.10"
  }
 },
 "nbformat": 4,
 "nbformat_minor": 5
}
