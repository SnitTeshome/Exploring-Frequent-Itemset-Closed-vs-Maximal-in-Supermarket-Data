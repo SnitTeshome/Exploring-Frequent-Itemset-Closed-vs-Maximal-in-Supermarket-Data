{
 "cells": [
  {
   "cell_type": "markdown",
   "id": "2cfc5d5b",
   "metadata": {},
   "source": [
    "## *Exploring Frequent Itemsets: Closed vs Maximal in Supermarket Data*"
   ]
  },
  {
   "cell_type": "markdown",
   "id": "4596a67a",
   "metadata": {},
   "source": [
    "#### *[Student: Mohammed] Import necessary libraries*"
   ]
  },
  {
   "cell_type": "code",
   "execution_count": 2,
   "id": "00e6489f",
   "metadata": {},
   "outputs": [],
   "source": [
    "import pandas as pd\n",
    "import random\n",
    "from mlxtend.frequent_patterns import apriori\n",
    "import random"
   ]
  },
  {
   "cell_type": "markdown",
   "id": "07a3acc6",
   "metadata": {},
   "source": [
    "##### *Generate 3000 supermarket transactions*\n",
    "##### *Each transaction will have between 2 and 7 items randomly chosen from a pool of 30 unique items*"
   ]
  },
  {
   "cell_type": "code",
   "execution_count": 3,
   "id": "43e1aed9",
   "metadata": {},
   "outputs": [
    {
     "data": {
      "application/vnd.microsoft.datawrangler.viewer.v0+json": {
       "columns": [
        {
         "name": "index",
         "rawType": "int64",
         "type": "integer"
        },
        {
         "name": "Transaction",
         "rawType": "object",
         "type": "unknown"
        }
       ],
       "ref": "629f69c4-a8bd-4330-9dae-7fcdba2bbded",
       "rows": [
        [
         "0",
         "['Eggs', 'Milk', 'Coffee', 'Beef', 'Chicken', 'Sugar', 'Cheese']"
        ],
        [
         "1",
         "['Eggs', 'Chips', 'Coffee', 'Onions', 'Butter', 'Potatoes', 'Juice']"
        ],
        [
         "2",
         "['Milk', 'Butter']"
        ],
        [
         "3",
         "['Chicken', 'Tomatoes', 'Carrots']"
        ],
        [
         "4",
         "['Onions', 'Bananas']"
        ]
       ],
       "shape": {
        "columns": 1,
        "rows": 5
       }
      },
      "text/html": [
       "<div>\n",
       "<style scoped>\n",
       "    .dataframe tbody tr th:only-of-type {\n",
       "        vertical-align: middle;\n",
       "    }\n",
       "\n",
       "    .dataframe tbody tr th {\n",
       "        vertical-align: top;\n",
       "    }\n",
       "\n",
       "    .dataframe thead th {\n",
       "        text-align: right;\n",
       "    }\n",
       "</style>\n",
       "<table border=\"1\" class=\"dataframe\">\n",
       "  <thead>\n",
       "    <tr style=\"text-align: right;\">\n",
       "      <th></th>\n",
       "      <th>Transaction</th>\n",
       "    </tr>\n",
       "  </thead>\n",
       "  <tbody>\n",
       "    <tr>\n",
       "      <th>0</th>\n",
       "      <td>[Eggs, Milk, Coffee, Beef, Chicken, Sugar, Che...</td>\n",
       "    </tr>\n",
       "    <tr>\n",
       "      <th>1</th>\n",
       "      <td>[Eggs, Chips, Coffee, Onions, Butter, Potatoes...</td>\n",
       "    </tr>\n",
       "    <tr>\n",
       "      <th>2</th>\n",
       "      <td>[Milk, Butter]</td>\n",
       "    </tr>\n",
       "    <tr>\n",
       "      <th>3</th>\n",
       "      <td>[Chicken, Tomatoes, Carrots]</td>\n",
       "    </tr>\n",
       "    <tr>\n",
       "      <th>4</th>\n",
       "      <td>[Onions, Bananas]</td>\n",
       "    </tr>\n",
       "  </tbody>\n",
       "</table>\n",
       "</div>"
      ],
      "text/plain": [
       "                                         Transaction\n",
       "0  [Eggs, Milk, Coffee, Beef, Chicken, Sugar, Che...\n",
       "1  [Eggs, Chips, Coffee, Onions, Butter, Potatoes...\n",
       "2                                     [Milk, Butter]\n",
       "3                       [Chicken, Tomatoes, Carrots]\n",
       "4                                  [Onions, Bananas]"
      ]
     },
     "execution_count": 3,
     "metadata": {},
     "output_type": "execute_result"
    }
   ],
   "source": [
    "# Generate 3000 supermarket transactions\n",
    "# Each transaction will have between 2 and 7 items randomly chosen from a pool of 30 unique items\n",
    "\n",
    "# [Student: Mohammed] Define the item pool\n",
    "item_pool = [\n",
    "    'Milk', 'Bread', 'Butter', 'Eggs', 'Cheese', 'Apples', 'Bananas', 'Chicken',\n",
    "    'Beef', 'Fish', 'Rice', 'Pasta', 'Cereal', 'Juice', 'Soda', 'Yogurt',\n",
    "    'Tomatoes', 'Onions', 'Potatoes', 'Carrots', 'Cookies', 'Chips', 'Ice Cream',\n",
    "    'Coffee', 'Tea', 'Sugar', 'Flour', 'Salt', 'Pepper', 'Oil'\n",
    "]\n",
    "\n",
    "# generate transactions\n",
    "random.seed(42)  # For reproducibility\n",
    "transactions = []\n",
    "for _ in range(3000):\n",
    "    transaction = random.sample(item_pool, k=random.randint(2, 7))  # 2 to 7 items per transaction\n",
    "    transactions.append(transaction)\n",
    "# Save as CSV\n",
    "df_transactions = pd.DataFrame({'Transaction': transactions})  # Creating a DataFrame from the transactions list\n",
    "df_transactions.to_csv('data/supermarket_transactions.csv', index=False)  # Saving the DataFrame to a CSV file\n",
    "df_transactions.head()  # Displaying the first few transactions"
   ]
  },
  {
   "cell_type": "code",
   "execution_count": 4,
   "id": "d279efa6",
   "metadata": {},
   "outputs": [
    {
     "name": "stdout",
     "output_type": "stream",
     "text": [
      "Closed Frequent Itemsets:\n",
      "{'C'} -> support: 4\n",
      "{'A'} -> support: 4\n",
      "{'B'} -> support: 4\n",
      "{'C', 'A'} -> support: 3\n",
      "{'A', 'B'} -> support: 3\n",
      "{'C', 'B'} -> support: 3\n",
      "{'C', 'A', 'B'} -> support: 2\n"
     ]
    }
   ],
   "source": [
    "# [Student: Snit] Import required libraries\n",
    "from collections import defaultdict\n",
    "import pandas as pd\n",
    "\n",
    "# [Student: Snit] Sample dataset with 5 transactions (each a set of items)\n",
    "transactions = [\n",
    "    {\"A\", \"B\", \"C\"},\n",
    "    {\"A\", \"B\"},\n",
    "    {\"A\", \"C\"},\n",
    "    {\"B\", \"C\"},\n",
    "    {\"A\", \"B\", \"C\"},\n",
    "]\n",
    "\n",
    "# [Student: Snit] Initialize a dictionary to count support for all item combinations\n",
    "support_count = defaultdict(int)\n",
    "\n",
    "for t in transactions:\n",
    "    # Count support for individual items\n",
    "    for item in t:\n",
    "        support_count[frozenset([item])] += 1\n",
    "    \n",
    "    # Count support for all item pairs\n",
    "    for i1 in t:\n",
    "        for i2 in t:\n",
    "            if i1 < i2:\n",
    "                support_count[frozenset([i1, i2])] += 1\n",
    "\n",
    "    # Count support for triple itemsets (only if all three items present)\n",
    "    if len(t) == 3:\n",
    "        support_count[frozenset(t)] += 1\n",
    "\n",
    "# [Student: Snit] Identify closed itemsets\n",
    "# A closed itemset has no superset with the same support\n",
    "closed_itemsets = []\n",
    "for itemset in support_count:\n",
    "    is_closed = True\n",
    "    for other in support_count:\n",
    "        if itemset < other and support_count[itemset] == support_count[other]:\n",
    "            is_closed = False\n",
    "            break\n",
    "    if is_closed:\n",
    "        closed_itemsets.append((set(itemset), support_count[itemset]))\n",
    "\n",
    "# [Student: Snit] Display closed itemsets and their support\n",
    "print(\"Closed Frequent Itemsets:\")\n",
    "for itemset, count in closed_itemsets:\n",
    "    print(f\"{itemset} -> support: {count}\")\n",
    "\n",
    "# [Student: Snit] Save closed itemsets to a CSV file inside the data folder\n",
    "closed_df = pd.DataFrame(closed_itemsets, columns=[\"Itemset\", \"Support\"])\n",
    "closed_df.to_csv(\"data/manual_closed_itemsets.csv\", index=False)\n"
   ]
  },
  {
   "cell_type": "code",
   "execution_count": 5,
   "id": "53882e33",
   "metadata": {},
   "outputs": [],
   "source": [
    "# [Student: Lesala] Step 2: One-Hot Encode the Transactions\n",
    "# Convert list of items to one-hot encoded DataFrame\n",
    "\n",
    "# Creating  a DataFrame where each row is a transaction and each column is an item\n",
    "encoded_data = []\n",
    "for transaction in transactions:\n",
    "    encoded_row = {item: (item in transaction) for item in item_pool}\n",
    "    encoded_data.append(encoded_row)\n",
    "\n",
    "df = pd.DataFrame(encoded_data)\n",
    "\n",
    "#  Generating Frequent Itemsets using Apriori\n",
    "# Minimum support is set to 0.05 (5%)\n",
    "frequent_itemsets = apriori(df, min_support=0.05, use_colnames=True)\n",
    "\n",
    "# Sorting and exporting top 10 itemsets to data folder \n",
    "frequent_itemsets = frequent_itemsets.sort_values(by='support', ascending=False)\n",
    "frequent_itemsets.head(10).to_csv('data/frequent_itemsets.csv', index=False)\n",
    "\n"
   ]
  }
 ],
 "metadata": {
  "kernelspec": {
   "display_name": "Python 3",
   "language": "python",
   "name": "python3"
  },
  "language_info": {
   "codemirror_mode": {
    "name": "ipython",
    "version": 3
   },
   "file_extension": ".py",
   "mimetype": "text/x-python",
   "name": "python",
   "nbconvert_exporter": "python",
   "pygments_lexer": "ipython3",
   "version": "3.11.9"
  }
 },
 "nbformat": 4,
 "nbformat_minor": 5
}
