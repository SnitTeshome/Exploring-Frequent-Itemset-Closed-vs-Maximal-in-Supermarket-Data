{
 "cells": [
  {
   "cell_type": "code",
   "execution_count": 9,
   "id": "698290db",
   "metadata": {},
   "outputs": [
    {
     "name": "stdout",
     "output_type": "stream",
     "text": [
      "Folder 'data' already exists.\n"
     ]
    }
   ],
   "source": [
    "import os  # Importing the os module for interacting with the operating system\n",
    "\n",
    "# [Student: Mohamed] Creating folder 'data' if it doesn't exist\n",
    "folder_path = \"data\"  # Defining the folder path as 'data'\n",
    "if not os.path.exists(folder_path):  # Checking if the folder does not exist\n",
    "    os.makedirs(folder_path)  # Creating the folder if it doesn't exist\n",
    "    print(f\"Folder '{folder_path}' created.\")  # Printing confirmation that the folder was created\n",
    "else:  # If the folder already exists\n",
    "    print(f\"Folder '{folder_path}' already exists.\")  # Printing confirmation that the folder already exists\n"
   ]
  },
  {
   "cell_type": "code",
   "execution_count": 7,
   "id": "d5661fa6",
   "metadata": {},
   "outputs": [
    {
     "data": {
      "text/html": [
       "<div>\n",
       "<style scoped>\n",
       "    .dataframe tbody tr th:only-of-type {\n",
       "        vertical-align: middle;\n",
       "    }\n",
       "\n",
       "    .dataframe tbody tr th {\n",
       "        vertical-align: top;\n",
       "    }\n",
       "\n",
       "    .dataframe thead th {\n",
       "        text-align: right;\n",
       "    }\n",
       "</style>\n",
       "<table border=\"1\" class=\"dataframe\">\n",
       "  <thead>\n",
       "    <tr style=\"text-align: right;\">\n",
       "      <th></th>\n",
       "      <th>Transaction</th>\n",
       "    </tr>\n",
       "  </thead>\n",
       "  <tbody>\n",
       "    <tr>\n",
       "      <th>0</th>\n",
       "      <td>[Apples, Potatoes, Soap]</td>\n",
       "    </tr>\n",
       "    <tr>\n",
       "      <th>1</th>\n",
       "      <td>[Flour, Yogurt, Cooking Oil, Toilet Paper, Soa...</td>\n",
       "    </tr>\n",
       "    <tr>\n",
       "      <th>2</th>\n",
       "      <td>[Tea, Toilet Paper, Beef, Bananas, Potatoes]</td>\n",
       "    </tr>\n",
       "    <tr>\n",
       "      <th>3</th>\n",
       "      <td>[Apples, Rice]</td>\n",
       "    </tr>\n",
       "    <tr>\n",
       "      <th>4</th>\n",
       "      <td>[Apples, Salt]</td>\n",
       "    </tr>\n",
       "  </tbody>\n",
       "</table>\n",
       "</div>"
      ],
      "text/plain": [
       "                                         Transaction\n",
       "0                           [Apples, Potatoes, Soap]\n",
       "1  [Flour, Yogurt, Cooking Oil, Toilet Paper, Soa...\n",
       "2       [Tea, Toilet Paper, Beef, Bananas, Potatoes]\n",
       "3                                     [Apples, Rice]\n",
       "4                                     [Apples, Salt]"
      ]
     },
     "execution_count": 7,
     "metadata": {},
     "output_type": "execute_result"
    }
   ],
   "source": [
    "# [Student: Mohamed] Simulating 3000 transactions \n",
    "import pandas as pd  # Import pandas for data manipulation\n",
    "import random  # Import random for random sampling\n",
    "\n",
    "\n",
    "item_pool = [  # List of possible items in the supermarket\n",
    "    \"Milk\", \"Bread\", \"Eggs\", \"Butter\", \"Cheese\", \"Apples\", \"Bananas\", \"Oranges\",\n",
    "    \"Chicken\", \"Beef\", \"Pasta\", \"Rice\", \"Tomatoes\", \"Onions\", \"Potatoes\",\n",
    "    \"Lettuce\", \"Cucumber\", \"Carrots\", \"Yogurt\", \"Juice\", \"Cereal\", \"Coffee\",\n",
    "    \"Tea\", \"Sugar\", \"Salt\", \"Cooking Oil\", \"Flour\", \"Toilet Paper\", \"Soap\", \"Shampoo\"\n",
    "    # 30 different items in total\n",
    " ]\n",
    "\n",
    "\n",
    "transactions = []  # Initializing an empty list to store transactions\n",
    "for _ in range(3000):  # Looping to create 3000 transactions\n",
    "    num_items = random.randint(2, 7)  # Randomly choosing number of items in transaction (between 2 and 7)\n",
    "    transaction = random.sample(item_pool, num_items)  # Randomly selecting items for the transaction\n",
    "    transactions.append(transaction)  # Adding the transaction to the list\n",
    "\n",
    "# Save as CSV\n",
    "df_transactions = pd.DataFrame({'Transaction': transactions})  # Creating a DataFrame from the transactions list\n",
    "df_transactions.to_csv('data/supermarket_transactions.csv', index=False)  # Saving the DataFrame to a CSV file\n",
    "df_transactions.head()  # Displaying the first few transactions"
   ]
  }
 ],
 "metadata": {
  "kernelspec": {
   "display_name": "Python 3",
   "language": "python",
   "name": "python3"
  },
  "language_info": {
   "codemirror_mode": {
    "name": "ipython",
    "version": 3
   },
   "file_extension": ".py",
   "mimetype": "text/x-python",
   "name": "python",
   "nbconvert_exporter": "python",
   "pygments_lexer": "ipython3",
   "version": "3.12.10"
  }
 },
 "nbformat": 4,
 "nbformat_minor": 5
}
