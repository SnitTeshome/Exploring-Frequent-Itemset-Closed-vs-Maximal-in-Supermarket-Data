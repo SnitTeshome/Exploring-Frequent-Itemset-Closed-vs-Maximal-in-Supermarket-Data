{
 "cells": [
  {
   "cell_type": "markdown",
   "id": "2cfc5d5b",
   "metadata": {},
   "source": [
    "## *Exploring Frequent Itemsets: Closed vs Maximal in Supermarket Data*\n",
    "#### *Introduction: Understanding Maximal and Closed Frequent Itemsets*\n",
    "\n",
    "#### *Frequent Itemsets*\n",
    "\n",
    "*A frequent itemset is a set of items that appears together in a dataset more than a specified minimum number of times, known as the support threshold.*\n",
    "\n",
    "---\n",
    "\n",
    "#### *Closed Frequent Itemsets*\n",
    "\n",
    "*A closed frequent itemset is a frequent itemset for which no superset has the same support.*\n",
    "\n",
    "*In other words, it is not possible to add any more items to the set without decreasing how often it appears. Closed itemsets help reduce redundancy while preserving complete support information.*\n",
    "\n",
    "---\n",
    "\n",
    "#### *Maximal Frequent Itemsets*\n",
    "\n",
    "*A maximal frequent itemset is a frequent itemset for which no superset is also frequent.*\n",
    "\n",
    "*This means that no additional items can be added to the itemset while still satisfying the minimum support threshold. Maximal itemsets provide a highly compact representation of frequent patterns.*\n",
    "\n",
    "---\n"
   ]
  },
  {
   "cell_type": "markdown",
   "id": "4596a67a",
   "metadata": {},
   "source": [
    "### *[Student: Mohammed]*\n",
    "*Import necessary libraries*"
   ]
  },
  {
   "cell_type": "code",
   "execution_count": 1182,
   "id": "00e6489f",
   "metadata": {},
   "outputs": [],
   "source": [
    "import pandas as pd # Import pandas for data manipulation\n",
    "import numpy as np # Import numpy for numerical operations\n",
    "\n",
    "import random    # Import random for generating random numbers\n",
    "from mlxtend.frequent_patterns import apriori   # Import apriori algorithm from mlxtend for frequent itemset mining\n",
    "from collections import defaultdict     # Import defaultdict for creating dictionaries with default values"
   ]
  },
  {
   "cell_type": "markdown",
   "id": "07a3acc6",
   "metadata": {},
   "source": [
    "## *Step-1. Simulate   Supermarket Transactions Data*\n",
    "\n",
    "*This section generates `3,000 supermarket transactions.` Each transaction includes between `2 to 7 items` randomly selected from a pool of `30 unique grocery items.` To ensure reproducibility, a random seed is set. The resulting transactions are stored in a pandas DataFrame and saved as a CSV file for future use.*\n"
   ]
  },
  {
   "cell_type": "markdown",
   "id": "25885d28",
   "metadata": {},
   "source": [
    " ### *Define Item Pool*"
   ]
  },
  {
   "cell_type": "code",
   "execution_count": 1183,
   "id": "e20a8a31",
   "metadata": {},
   "outputs": [],
   "source": [
    "# Generate 3000 supermarket transactions\n",
    "# Each transaction will have between 2 and 7 items randomly chosen from a pool of 30 unique items\n",
    "random.seed(42)\n",
    "#Define the item pool\n",
    "item_pool = [   # List of 30 unique grocery items\n",
    "    'Milk', 'Bread', 'Butter', 'Eggs', 'Cheese', 'Apples', 'Bananas', 'Chicken',\n",
    "    'Beef', 'Fish', 'Rice', 'Pasta', 'Cereal', 'Juice', 'Soda', 'Yogurt',\n",
    "    'Tomatoes', 'Onions', 'Potatoes', 'Carrots', 'Cookies', 'Chips', 'Ice Cream',\n",
    "    'Coffee', 'Tea', 'Sugar', 'Flour', 'Salt', 'Pepper', 'Oil'\n",
    "]  \n",
    "\n",
    "# -------------------------------  \n",
    "# Step 2: Define common frequent bundles  \n",
    "# -------------------------------  \n",
    "frequent_bundles = [  \n",
    "    ['Milk', 'Bread'],  \n",
    "    ['Apples', 'Bananas', 'Yogurt'],  \n",
    "    ['Chicken', 'Rice', 'Beans'],  \n",
    "    ['Soda', 'Chips', 'Cookies'],  \n",
    "    ['Cheese', 'Butter', 'Eggs']  \n",
    "]\n",
    " \n",
    "# Add missing bundle items  \n",
    "item_pool = list(set(item_pool + ['chips']))  "
   ]
  },
  {
   "cell_type": "markdown",
   "id": "60060de2",
   "metadata": {},
   "source": [
    "###  *Generating Supermarket Transactions*\n",
    "\n",
    "*We generate 3,000 transactions by randomly sampling between 2 and 7 items from the predefined item pool. A random seed is set for reproducibility.*\n"
   ]
  },
  {
   "cell_type": "code",
   "execution_count": 1184,
   "id": "43e1aed9",
   "metadata": {},
   "outputs": [],
   "source": [
    "# -------------------------------\n",
    "# Step 3: Generate synthetic transactions\n",
    "# -------------------------------\n",
    "# Loop generates 3,000 transactions. Each transaction:\n",
    "# - Has a 50% chance of including one frequent bundle\n",
    "# - Adds 0 to 4 extra random (non-duplicate) items\n",
    "# - Randomizes item order to avoid fixed patterns\n",
    "\n",
    "num_transactions = 3000\n",
    "transactions = []\n",
    "\n",
    "for _ in range(num_transactions):\n",
    "    transaction = []\n",
    "\n",
    "    # Inject a frequent bundle 50% of the time\n",
    "    if random.random() < 0.5:\n",
    "        bundle = random.choice(frequent_bundles)\n",
    "        transaction.extend(bundle)\n",
    "\n",
    "    # Add a few additional random items (avoid duplicates)\n",
    "    num_extra_items = random.randint(0, 4)\n",
    "    remaining_items = list(set(item_pool) - set(transaction))\n",
    "    extras = random.sample(remaining_items, num_extra_items)\n",
    "    transaction.extend(extras)\n",
    "\n",
    "    # Shuffle items so the order is randomized\n",
    "    random.shuffle(transaction)\n",
    "    transactions.append(transaction)"
   ]
  },
  {
   "cell_type": "markdown",
   "id": "e8597dc1",
   "metadata": {},
   "source": [
    "### *Save and Display*"
   ]
  },
  {
   "cell_type": "code",
   "execution_count": 1185,
   "id": "f39b6ea9",
   "metadata": {},
   "outputs": [
    {
     "name": "stdout",
     "output_type": "stream",
     "text": [
      "Sample Transactions:\n"
     ]
    },
    {
     "data": {
      "application/vnd.microsoft.datawrangler.viewer.v0+json": {
       "columns": [
        {
         "name": "index",
         "rawType": "int64",
         "type": "integer"
        },
        {
         "name": "Transaction",
         "rawType": "object",
         "type": "string"
        }
       ],
       "ref": "55a7066b-9c24-494b-86ff-99e4cdf99898",
       "rows": [
        [
         "0",
         ""
        ],
        [
         "1",
         "Yogurt"
        ],
        [
         "2",
         "Juice, Beef, Bananas, Bread, Soda, Milk"
        ],
        [
         "3",
         "Yogurt, Carrots, Chicken, Bananas"
        ],
        [
         "4",
         "Pepper, Coffee"
        ],
        [
         "5",
         "Beef, Soda"
        ],
        [
         "6",
         "Beans, Rice, Butter, Fish, Chicken, Apples, Coffee"
        ],
        [
         "7",
         "Carrots, Eggs, Rice, Apples"
        ],
        [
         "8",
         "Soda, Yogurt, Tea, Apples, Bananas"
        ],
        [
         "9",
         "Cookies, Rice, Chicken, Beans"
        ],
        [
         "10",
         ""
        ],
        [
         "11",
         "Pasta"
        ],
        [
         "12",
         "Bananas"
        ],
        [
         "13",
         "Butter, Salt, Cheese, Eggs"
        ],
        [
         "14",
         "Coffee, Cookies"
        ],
        [
         "15",
         "Cheese, Butter, Eggs, Oil, Coffee"
        ],
        [
         "16",
         "Apples, Bananas, Fish, Yogurt"
        ],
        [
         "17",
         "Rice, Yogurt, Pepper"
        ],
        [
         "18",
         "Bread, Milk"
        ],
        [
         "19",
         "Sugar, Cookies, Soda"
        ],
        [
         "20",
         "Flour, Tea, Bread, Apples"
        ],
        [
         "21",
         "Beef, Potatoes"
        ],
        [
         "22",
         "chips, Milk, Carrots, Bread"
        ],
        [
         "23",
         "Juice, chips"
        ],
        [
         "24",
         "Bread, Flour, Bananas, Carrots, Apples, chips, Yogurt"
        ],
        [
         "25",
         "Cereal, Soda, Yogurt, Pasta, Bananas, Fish, Apples"
        ],
        [
         "26",
         "Coffee"
        ],
        [
         "27",
         "Chicken, Cereal, Ice Cream, Tea"
        ],
        [
         "28",
         "Beans, Tea, Tomatoes, Carrots, Rice, Chicken"
        ],
        [
         "29",
         "Juice, Eggs, Cheese, Butter"
        ],
        [
         "30",
         ""
        ],
        [
         "31",
         "Milk, Beef, Carrots, Bread"
        ],
        [
         "32",
         "Yogurt, Pasta, Coffee, Apples, Bananas, Eggs, Juice"
        ],
        [
         "33",
         "Tea, Cookies, Chips, chips, Soda, Butter"
        ],
        [
         "34",
         ""
        ],
        [
         "35",
         "Cheese, Milk, Pepper, Apples, Bananas, Tomatoes, Yogurt"
        ],
        [
         "36",
         "Butter, Eggs, Cheese"
        ],
        [
         "37",
         "Cookies, Tea, Milk, Yogurt, Chips, Soda"
        ],
        [
         "38",
         "Chips, Cookies, Soda, Tomatoes, Fish"
        ],
        [
         "39",
         "Bread, Soda, Fish, Sugar, Rice, Milk"
        ],
        [
         "40",
         "Butter, Eggs, Cheese"
        ],
        [
         "41",
         "Cookies"
        ],
        [
         "42",
         "Butter, Juice, Eggs, Cheese"
        ],
        [
         "43",
         "Cheese, Cookies, Carrots, Butter, Eggs, Coffee, Chips"
        ],
        [
         "44",
         "Rice, Beans, chips, Soda, Chips, Chicken"
        ],
        [
         "45",
         "Cereal"
        ],
        [
         "46",
         "Cookies, Milk, Bread"
        ],
        [
         "47",
         "Flour, Butter, Eggs, Cheese, Apples"
        ],
        [
         "48",
         ""
        ],
        [
         "49",
         "Coffee"
        ]
       ],
       "shape": {
        "columns": 1,
        "rows": 3000
       }
      },
      "text/html": [
       "<div>\n",
       "<style scoped>\n",
       "    .dataframe tbody tr th:only-of-type {\n",
       "        vertical-align: middle;\n",
       "    }\n",
       "\n",
       "    .dataframe tbody tr th {\n",
       "        vertical-align: top;\n",
       "    }\n",
       "\n",
       "    .dataframe thead th {\n",
       "        text-align: right;\n",
       "    }\n",
       "</style>\n",
       "<table border=\"1\" class=\"dataframe\">\n",
       "  <thead>\n",
       "    <tr style=\"text-align: right;\">\n",
       "      <th></th>\n",
       "      <th>Transaction</th>\n",
       "    </tr>\n",
       "  </thead>\n",
       "  <tbody>\n",
       "    <tr>\n",
       "      <th>0</th>\n",
       "      <td></td>\n",
       "    </tr>\n",
       "    <tr>\n",
       "      <th>1</th>\n",
       "      <td>Yogurt</td>\n",
       "    </tr>\n",
       "    <tr>\n",
       "      <th>2</th>\n",
       "      <td>Juice, Beef, Bananas, Bread, Soda, Milk</td>\n",
       "    </tr>\n",
       "    <tr>\n",
       "      <th>3</th>\n",
       "      <td>Yogurt, Carrots, Chicken, Bananas</td>\n",
       "    </tr>\n",
       "    <tr>\n",
       "      <th>4</th>\n",
       "      <td>Pepper, Coffee</td>\n",
       "    </tr>\n",
       "    <tr>\n",
       "      <th>...</th>\n",
       "      <td>...</td>\n",
       "    </tr>\n",
       "    <tr>\n",
       "      <th>2995</th>\n",
       "      <td>Carrots</td>\n",
       "    </tr>\n",
       "    <tr>\n",
       "      <th>2996</th>\n",
       "      <td>Cereal, Bananas</td>\n",
       "    </tr>\n",
       "    <tr>\n",
       "      <th>2997</th>\n",
       "      <td>Bananas, Pepper</td>\n",
       "    </tr>\n",
       "    <tr>\n",
       "      <th>2998</th>\n",
       "      <td>Juice</td>\n",
       "    </tr>\n",
       "    <tr>\n",
       "      <th>2999</th>\n",
       "      <td></td>\n",
       "    </tr>\n",
       "  </tbody>\n",
       "</table>\n",
       "<p>3000 rows × 1 columns</p>\n",
       "</div>"
      ],
      "text/plain": [
       "                                  Transaction\n",
       "0                                            \n",
       "1                                      Yogurt\n",
       "2     Juice, Beef, Bananas, Bread, Soda, Milk\n",
       "3           Yogurt, Carrots, Chicken, Bananas\n",
       "4                              Pepper, Coffee\n",
       "...                                       ...\n",
       "2995                                  Carrots\n",
       "2996                          Cereal, Bananas\n",
       "2997                          Bananas, Pepper\n",
       "2998                                    Juice\n",
       "2999                                         \n",
       "\n",
       "[3000 rows x 1 columns]"
      ]
     },
     "execution_count": 1185,
     "metadata": {},
     "output_type": "execute_result"
    }
   ],
   "source": [
    "# Step 4: Save transactions to CSV\n",
    "# -------------------------------\n",
    "# Each transaction is saved as a comma-separated string in one row.\n",
    "# Useful for visual inspection or loading later.\n",
    "transaction_strings = [', '.join(t) for t in transactions]\n",
    "transactions_df = pd.DataFrame({'Transaction': transaction_strings})\n",
    "transactions_df.to_csv('supermarket_transactions.csv', index=False)\n",
    "\n",
    "\n",
    "# -------------------------------\n",
    "# Step 5: Preview the simulated data\n",
    "# -------------------------------\n",
    "# Display the first few rows to confirm structure and content.\n",
    "print(\"Sample Transactions:\")\n",
    "transactions_df\n"
   ]
  },
  {
   "cell_type": "markdown",
   "id": "658435ce",
   "metadata": {},
   "source": [
    "## *[Student: Lesala]*\n",
    "\n",
    "## *Step-2:Generate Frequent Itemsets*\n",
    "### *Encoding and Mining Frequent Itemsets*\n",
    "\n",
    "*In this section, we transform the transaction data into a one-hot encoded format and apply the Apriori algorithm to identify the most frequently purchased item combinations. Itemsets that appear in at least 5% of transactions are retained.*"
   ]
  },
  {
   "cell_type": "markdown",
   "id": "a298ecaa",
   "metadata": {},
   "source": [
    "#### *One-Hot Encode the Transactions*\n",
    "*We convert each transaction—a list of purchased items—into a format suitable for the Apriori algorithm. Each row represents a transaction, and each column corresponds to an item, marked as `True` if present in that transaction and `False` otherwise. This binary structure is crucial for applying the Apriori method.*\n",
    "\n",
    "---\n",
    "\n",
    "##### *Why this is necessary ?*\n",
    "*The Apriori algorithm requires data in a tabular format where each transaction is a binary vector. Without one-hot encoding, the algorithm wouldn't know which items co-occur across transactions.*\n",
    "\n"
   ]
  },
  {
   "cell_type": "code",
   "execution_count": 1186,
   "id": "ea939098",
   "metadata": {},
   "outputs": [
    {
     "data": {
      "application/vnd.microsoft.datawrangler.viewer.v0+json": {
       "columns": [
        {
         "name": "index",
         "rawType": "int64",
         "type": "integer"
        },
        {
         "name": "Bread",
         "rawType": "bool",
         "type": "boolean"
        },
        {
         "name": "Ice Cream",
         "rawType": "bool",
         "type": "boolean"
        },
        {
         "name": "Potatoes",
         "rawType": "bool",
         "type": "boolean"
        },
        {
         "name": "Cookies",
         "rawType": "bool",
         "type": "boolean"
        },
        {
         "name": "Tomatoes",
         "rawType": "bool",
         "type": "boolean"
        },
        {
         "name": "Juice",
         "rawType": "bool",
         "type": "boolean"
        },
        {
         "name": "Oil",
         "rawType": "bool",
         "type": "boolean"
        },
        {
         "name": "Salt",
         "rawType": "bool",
         "type": "boolean"
        },
        {
         "name": "Onions",
         "rawType": "bool",
         "type": "boolean"
        },
        {
         "name": "Pasta",
         "rawType": "bool",
         "type": "boolean"
        },
        {
         "name": "Eggs",
         "rawType": "bool",
         "type": "boolean"
        },
        {
         "name": "Cereal",
         "rawType": "bool",
         "type": "boolean"
        },
        {
         "name": "Butter",
         "rawType": "bool",
         "type": "boolean"
        },
        {
         "name": "Soda",
         "rawType": "bool",
         "type": "boolean"
        },
        {
         "name": "Beef",
         "rawType": "bool",
         "type": "boolean"
        },
        {
         "name": "Pepper",
         "rawType": "bool",
         "type": "boolean"
        },
        {
         "name": "Cheese",
         "rawType": "bool",
         "type": "boolean"
        },
        {
         "name": "Yogurt",
         "rawType": "bool",
         "type": "boolean"
        },
        {
         "name": "Coffee",
         "rawType": "bool",
         "type": "boolean"
        },
        {
         "name": "Chips",
         "rawType": "bool",
         "type": "boolean"
        },
        {
         "name": "Rice",
         "rawType": "bool",
         "type": "boolean"
        },
        {
         "name": "Chicken",
         "rawType": "bool",
         "type": "boolean"
        },
        {
         "name": "Bananas",
         "rawType": "bool",
         "type": "boolean"
        },
        {
         "name": "Milk",
         "rawType": "bool",
         "type": "boolean"
        },
        {
         "name": "Carrots",
         "rawType": "bool",
         "type": "boolean"
        },
        {
         "name": "Sugar",
         "rawType": "bool",
         "type": "boolean"
        },
        {
         "name": "Flour",
         "rawType": "bool",
         "type": "boolean"
        },
        {
         "name": "Fish",
         "rawType": "bool",
         "type": "boolean"
        },
        {
         "name": "chips",
         "rawType": "bool",
         "type": "boolean"
        },
        {
         "name": "Apples",
         "rawType": "bool",
         "type": "boolean"
        },
        {
         "name": "Tea",
         "rawType": "bool",
         "type": "boolean"
        }
       ],
       "ref": "ebf5b475-38b4-4162-b6ae-5edb54bae81b",
       "rows": [
        [
         "0",
         "False",
         "False",
         "False",
         "False",
         "False",
         "False",
         "False",
         "False",
         "False",
         "False",
         "False",
         "False",
         "False",
         "False",
         "False",
         "False",
         "False",
         "False",
         "False",
         "False",
         "False",
         "False",
         "False",
         "False",
         "False",
         "False",
         "False",
         "False",
         "False",
         "False",
         "False"
        ],
        [
         "1",
         "False",
         "False",
         "False",
         "False",
         "False",
         "False",
         "False",
         "False",
         "False",
         "False",
         "False",
         "False",
         "False",
         "False",
         "False",
         "False",
         "False",
         "True",
         "False",
         "False",
         "False",
         "False",
         "False",
         "False",
         "False",
         "False",
         "False",
         "False",
         "False",
         "False",
         "False"
        ],
        [
         "2",
         "True",
         "False",
         "False",
         "False",
         "False",
         "True",
         "False",
         "False",
         "False",
         "False",
         "False",
         "False",
         "False",
         "True",
         "True",
         "False",
         "False",
         "False",
         "False",
         "False",
         "False",
         "False",
         "True",
         "True",
         "False",
         "False",
         "False",
         "False",
         "False",
         "False",
         "False"
        ],
        [
         "3",
         "False",
         "False",
         "False",
         "False",
         "False",
         "False",
         "False",
         "False",
         "False",
         "False",
         "False",
         "False",
         "False",
         "False",
         "False",
         "False",
         "False",
         "True",
         "False",
         "False",
         "False",
         "True",
         "True",
         "False",
         "True",
         "False",
         "False",
         "False",
         "False",
         "False",
         "False"
        ],
        [
         "4",
         "False",
         "False",
         "False",
         "False",
         "False",
         "False",
         "False",
         "False",
         "False",
         "False",
         "False",
         "False",
         "False",
         "False",
         "False",
         "True",
         "False",
         "False",
         "True",
         "False",
         "False",
         "False",
         "False",
         "False",
         "False",
         "False",
         "False",
         "False",
         "False",
         "False",
         "False"
        ]
       ],
       "shape": {
        "columns": 31,
        "rows": 5
       }
      },
      "text/html": [
       "<div>\n",
       "<style scoped>\n",
       "    .dataframe tbody tr th:only-of-type {\n",
       "        vertical-align: middle;\n",
       "    }\n",
       "\n",
       "    .dataframe tbody tr th {\n",
       "        vertical-align: top;\n",
       "    }\n",
       "\n",
       "    .dataframe thead th {\n",
       "        text-align: right;\n",
       "    }\n",
       "</style>\n",
       "<table border=\"1\" class=\"dataframe\">\n",
       "  <thead>\n",
       "    <tr style=\"text-align: right;\">\n",
       "      <th></th>\n",
       "      <th>Bread</th>\n",
       "      <th>Ice Cream</th>\n",
       "      <th>Potatoes</th>\n",
       "      <th>Cookies</th>\n",
       "      <th>Tomatoes</th>\n",
       "      <th>Juice</th>\n",
       "      <th>Oil</th>\n",
       "      <th>Salt</th>\n",
       "      <th>Onions</th>\n",
       "      <th>Pasta</th>\n",
       "      <th>...</th>\n",
       "      <th>Chicken</th>\n",
       "      <th>Bananas</th>\n",
       "      <th>Milk</th>\n",
       "      <th>Carrots</th>\n",
       "      <th>Sugar</th>\n",
       "      <th>Flour</th>\n",
       "      <th>Fish</th>\n",
       "      <th>chips</th>\n",
       "      <th>Apples</th>\n",
       "      <th>Tea</th>\n",
       "    </tr>\n",
       "  </thead>\n",
       "  <tbody>\n",
       "    <tr>\n",
       "      <th>0</th>\n",
       "      <td>False</td>\n",
       "      <td>False</td>\n",
       "      <td>False</td>\n",
       "      <td>False</td>\n",
       "      <td>False</td>\n",
       "      <td>False</td>\n",
       "      <td>False</td>\n",
       "      <td>False</td>\n",
       "      <td>False</td>\n",
       "      <td>False</td>\n",
       "      <td>...</td>\n",
       "      <td>False</td>\n",
       "      <td>False</td>\n",
       "      <td>False</td>\n",
       "      <td>False</td>\n",
       "      <td>False</td>\n",
       "      <td>False</td>\n",
       "      <td>False</td>\n",
       "      <td>False</td>\n",
       "      <td>False</td>\n",
       "      <td>False</td>\n",
       "    </tr>\n",
       "    <tr>\n",
       "      <th>1</th>\n",
       "      <td>False</td>\n",
       "      <td>False</td>\n",
       "      <td>False</td>\n",
       "      <td>False</td>\n",
       "      <td>False</td>\n",
       "      <td>False</td>\n",
       "      <td>False</td>\n",
       "      <td>False</td>\n",
       "      <td>False</td>\n",
       "      <td>False</td>\n",
       "      <td>...</td>\n",
       "      <td>False</td>\n",
       "      <td>False</td>\n",
       "      <td>False</td>\n",
       "      <td>False</td>\n",
       "      <td>False</td>\n",
       "      <td>False</td>\n",
       "      <td>False</td>\n",
       "      <td>False</td>\n",
       "      <td>False</td>\n",
       "      <td>False</td>\n",
       "    </tr>\n",
       "    <tr>\n",
       "      <th>2</th>\n",
       "      <td>True</td>\n",
       "      <td>False</td>\n",
       "      <td>False</td>\n",
       "      <td>False</td>\n",
       "      <td>False</td>\n",
       "      <td>True</td>\n",
       "      <td>False</td>\n",
       "      <td>False</td>\n",
       "      <td>False</td>\n",
       "      <td>False</td>\n",
       "      <td>...</td>\n",
       "      <td>False</td>\n",
       "      <td>True</td>\n",
       "      <td>True</td>\n",
       "      <td>False</td>\n",
       "      <td>False</td>\n",
       "      <td>False</td>\n",
       "      <td>False</td>\n",
       "      <td>False</td>\n",
       "      <td>False</td>\n",
       "      <td>False</td>\n",
       "    </tr>\n",
       "    <tr>\n",
       "      <th>3</th>\n",
       "      <td>False</td>\n",
       "      <td>False</td>\n",
       "      <td>False</td>\n",
       "      <td>False</td>\n",
       "      <td>False</td>\n",
       "      <td>False</td>\n",
       "      <td>False</td>\n",
       "      <td>False</td>\n",
       "      <td>False</td>\n",
       "      <td>False</td>\n",
       "      <td>...</td>\n",
       "      <td>True</td>\n",
       "      <td>True</td>\n",
       "      <td>False</td>\n",
       "      <td>True</td>\n",
       "      <td>False</td>\n",
       "      <td>False</td>\n",
       "      <td>False</td>\n",
       "      <td>False</td>\n",
       "      <td>False</td>\n",
       "      <td>False</td>\n",
       "    </tr>\n",
       "    <tr>\n",
       "      <th>4</th>\n",
       "      <td>False</td>\n",
       "      <td>False</td>\n",
       "      <td>False</td>\n",
       "      <td>False</td>\n",
       "      <td>False</td>\n",
       "      <td>False</td>\n",
       "      <td>False</td>\n",
       "      <td>False</td>\n",
       "      <td>False</td>\n",
       "      <td>False</td>\n",
       "      <td>...</td>\n",
       "      <td>False</td>\n",
       "      <td>False</td>\n",
       "      <td>False</td>\n",
       "      <td>False</td>\n",
       "      <td>False</td>\n",
       "      <td>False</td>\n",
       "      <td>False</td>\n",
       "      <td>False</td>\n",
       "      <td>False</td>\n",
       "      <td>False</td>\n",
       "    </tr>\n",
       "  </tbody>\n",
       "</table>\n",
       "<p>5 rows × 31 columns</p>\n",
       "</div>"
      ],
      "text/plain": [
       "   Bread  Ice Cream  Potatoes  Cookies  Tomatoes  Juice    Oil   Salt  Onions  \\\n",
       "0  False      False     False    False     False  False  False  False   False   \n",
       "1  False      False     False    False     False  False  False  False   False   \n",
       "2   True      False     False    False     False   True  False  False   False   \n",
       "3  False      False     False    False     False  False  False  False   False   \n",
       "4  False      False     False    False     False  False  False  False   False   \n",
       "\n",
       "   Pasta  ...  Chicken  Bananas   Milk  Carrots  Sugar  Flour   Fish  chips  \\\n",
       "0  False  ...    False    False  False    False  False  False  False  False   \n",
       "1  False  ...    False    False  False    False  False  False  False  False   \n",
       "2  False  ...    False     True   True    False  False  False  False  False   \n",
       "3  False  ...     True     True  False     True  False  False  False  False   \n",
       "4  False  ...    False    False  False    False  False  False  False  False   \n",
       "\n",
       "   Apples    Tea  \n",
       "0   False  False  \n",
       "1   False  False  \n",
       "2   False  False  \n",
       "3   False  False  \n",
       "4   False  False  \n",
       "\n",
       "[5 rows x 31 columns]"
      ]
     },
     "execution_count": 1186,
     "metadata": {},
     "output_type": "execute_result"
    }
   ],
   "source": [
    "# Convert list of items to one-hot encoded DataFrame\n",
    "\n",
    "# Each row is a transaction, each column is an item, and values are True/False\n",
    "encoded_data = []\n",
    "\n",
    "# Loop through each transaction (a list of items)\n",
    "for transaction in transactions:\n",
    "    # Create a dictionary for each transaction\n",
    "    # Key: item name\n",
    "    # Value: True if item is in the transaction, else False\n",
    "    encoded_row = {item: (item in transaction) for item in item_pool}\n",
    "    \n",
    "    # Add the encoded transaction to the list\n",
    "    encoded_data.append(encoded_row)\n",
    "\n",
    "df = pd.DataFrame(encoded_data)  # Create one-hot encoded DataFrame\n",
    "df.head()  # Display the first few rows of the DataFrame"
   ]
  },
  {
   "cell_type": "markdown",
   "id": "13b5207f",
   "metadata": {},
   "source": [
    "###  *Find Frequent Itemsets using the Apriori Algorithm*\n",
    "\n",
    "*We use the `mlxtend` library’s `apriori` function to identify frequent itemsets—combinations of items that appear together in at least 5% of transactions.*\n",
    "\n",
    "---\n",
    "\n",
    "#### *Why this is necessary:*\n",
    "\n",
    "*Identifying frequent itemsets helps uncover common buying patterns. This is foundational for later steps like generating association rules, which tell us how the presence of one item implies another.*\n",
    "\n",
    "---\n"
   ]
  },
  {
   "cell_type": "code",
   "execution_count": 1187,
   "id": "01f3fbc1",
   "metadata": {},
   "outputs": [],
   "source": [
    "# Generate Frequent Itemsets using Apriori algorithm\n",
    "# Minimum support threshold is 0.05 (i.e., items appearing in at least 5% of transactions)\n",
    "frequent_itemsets = apriori(df, min_support=0.05, use_colnames=True)"
   ]
  },
  {
   "cell_type": "markdown",
   "id": "91210b3e",
   "metadata": {},
   "source": [
    "### *Sorting and Exporting the Top Itemsets*\n",
    "\n",
    "*After generating frequent itemsets, we sort them by support (frequency of occurrence) and export the top 10 for reporting and further analysis.*\n",
    "\n",
    "---\n",
    "\n",
    "#### *Why this is necessary:*\n",
    "\n",
    "*Sorting allows us to focus on the most significant patterns, while exporting ensures we can reuse or share the findings in a reproducible and organized way.*\n",
    "\n",
    "---\n"
   ]
  },
  {
   "cell_type": "code",
   "execution_count": 1188,
   "id": "20556343",
   "metadata": {},
   "outputs": [
    {
     "name": "stdout",
     "output_type": "stream",
     "text": [
      "\n",
      "Top 10 Frequent Itemsets:\n",
      "      support   itemsets\n",
      "13  0.180333     (Soda)\n",
      "19  0.179333    (Chips)\n",
      "3   0.173000  (Cookies)\n",
      "0   0.165000    (Bread)\n",
      "23  0.163000     (Milk)\n",
      "16  0.162667   (Cheese)\n",
      "22  0.161000  (Bananas)\n",
      "10  0.157333     (Eggs)\n",
      "29  0.153333   (Apples)\n",
      "12  0.151000   (Butter)\n"
     ]
    }
   ],
   "source": [
    "# Sort the itemsets by support in descending order\n",
    "frequent_itemsets = frequent_itemsets.sort_values(by='support', ascending=False)\n",
    "\n",
    "#Save the top 10 frequent itemsets to CSV\n",
    "frequent_itemsets.head(10).to_csv('frequent_itemsets.csv', index=False)\n",
    "#Display output summaries\n",
    "print(\"\\nTop 10 Frequent Itemsets:\\n\", frequent_itemsets.head(10))\n"
   ]
  },
  {
   "cell_type": "markdown",
   "id": "70441d3e",
   "metadata": {},
   "source": [
    "### *[Student: Halima]*\n",
    "## *Step 3: Identify Closed Frequent Itemsets*"
   ]
  },
  {
   "cell_type": "markdown",
   "id": "21b3a85b",
   "metadata": {},
   "source": [
    "### *Introduction: Understanding Maximal and Closed Frequent Itemsets*\n",
    "\n",
    "In *Market Basket Analysis*, one of our goals is to uncover frequent patterns—groups of items that appear together in many transactions.\n",
    "\n",
    "However, as we mine more patterns, the number of frequent itemsets can *grow explosively*. This leads to *redundancy* and makes interpretation more difficult.\n",
    "\n",
    "*To solve this*, we use *condensed representations* of frequent itemsets:\n",
    "\n",
    "* *Maximal Frequent Itemsets (MFI)*\n",
    "* *Closed Frequent Itemsets (CFI)*\n",
    "\n",
    "These approaches help reduce the number of itemsets while retaining the most important information for analysis.\n"
   ]
  },
  {
   "cell_type": "markdown",
   "id": "5ef3d214",
   "metadata": {},
   "source": [
    "\n",
    "---\n",
    "\n",
    "#### *What is Support?*\n",
    "\n",
    "**Support** is a measure that tells you **how often an itemset appears in the dataset**, expressed as a **proportion of total transactions**.\n",
    "\n",
    "---\n",
    "\n",
    "###  *Support Formula*\n",
    "\\[\n",
    "\\text{Support}(X) = \\frac{\\text{Number of transactions containing } X}{\\text{Total number of transactions}}\n",
    "\\]\n",
    "\n",
    "\n",
    "Where:\n",
    "- **Support(X)** is the support of itemset **X**.\n",
    "- **Number of transactions containing X** is how many transactions include the itemset.\n",
    "- **Total number of transactions** is the total count of all transactions in the dataset.\n",
    "- The result is a number between 0 and 1 (or between 0% and 100%).\n",
    "\n",
    "---\n"
   ]
  },
  {
   "cell_type": "code",
   "execution_count": 1189,
   "id": "ccc6bd3f",
   "metadata": {},
   "outputs": [
    {
     "name": "stdout",
     "output_type": "stream",
     "text": [
      "\n",
      " Closed Itemsets:\n",
      "\n",
      "     support                   itemsets  approx_occurrences\n",
      "13  0.180333                     (Soda)                 541\n",
      "19  0.179333                    (Chips)                 538\n",
      "3   0.173000                  (Cookies)                 519\n",
      "0   0.165000                    (Bread)                 495\n",
      "23  0.163000                     (Milk)                 489\n",
      "16  0.162667                   (Cheese)                 488\n",
      "22  0.161000                  (Bananas)                 483\n",
      "10  0.157333                     (Eggs)                 472\n",
      "29  0.153333                   (Apples)                 460\n",
      "12  0.151000                   (Butter)                 453\n",
      "21  0.150667                  (Chicken)                 452\n",
      "17  0.147667                   (Yogurt)                 443\n",
      "20  0.144667                     (Rice)                 434\n",
      "37  0.123000              (Soda, Chips)                 369\n",
      "33  0.123000           (Cookies, Chips)                 369\n",
      "32  0.120667            (Soda, Cookies)                 362\n",
      "42  0.116667     (Soda, Cookies, Chips)                 350\n",
      "31  0.107667              (Bread, Milk)                 323\n",
      "34  0.104333             (Eggs, Butter)                 313\n",
      "35  0.104000             (Cheese, Eggs)                 312\n",
      "36  0.102667           (Cheese, Butter)                 308\n",
      "43  0.100000     (Cheese, Eggs, Butter)                 300\n",
      "38  0.100000          (Yogurt, Bananas)                 300\n",
      "41  0.098667          (Apples, Bananas)                 296\n",
      "39  0.097333           (Apples, Yogurt)                 292\n",
      "44  0.094000  (Apples, Yogurt, Bananas)                 282\n",
      "40  0.093333            (Rice, Chicken)                 280\n",
      "8   0.083000                   (Onions)                 249\n",
      "5   0.075667                    (Juice)                 227\n",
      "27  0.072333                     (Fish)                 217\n",
      "9   0.071667                    (Pasta)                 215\n",
      "4   0.071333                 (Tomatoes)                 214\n",
      "11  0.071000                   (Cereal)                 213\n",
      "30  0.070333                      (Tea)                 211\n",
      "14  0.069333                     (Beef)                 208\n",
      "1   0.069000                (Ice Cream)                 207\n",
      "28  0.068667                    (chips)                 206\n",
      "15  0.068000                   (Pepper)                 204\n",
      "6   0.067667                      (Oil)                 203\n",
      "2   0.067333                 (Potatoes)                 202\n",
      "18  0.066667                   (Coffee)                 200\n",
      "25  0.066333                    (Sugar)                 199\n",
      "24  0.065667                  (Carrots)                 197\n",
      "26  0.064333                    (Flour)                 193\n",
      "7   0.061333                     (Salt)                 184\n",
      "\n",
      "Total Number of Closed Itemsets: 45\n"
     ]
    }
   ],
   "source": [
    "\n",
    "# An itemset is closed if there is no superset with the same support\n",
    "\n",
    "closed_itemsets = []\n",
    "for i, row_i in frequent_itemsets.iterrows():\n",
    "    is_closed = True\n",
    "    for j, row_j in frequent_itemsets.iterrows():\n",
    "        if row_i['itemsets'] < row_j['itemsets'] and row_i['support'] == row_j['support']:\n",
    "            is_closed = False\n",
    "            break\n",
    "    if is_closed:\n",
    "        closed_itemsets.append(row_i)\n",
    "\n",
    "#Convert closed itemsets list to DataFrame and save to data folder\n",
    "closed_df = pd.DataFrame(closed_itemsets)\n",
    "closed_df.to_csv('closed_itemsets.csv', index=False)\n",
    "\n",
    "# Convert closed itemsets list to DataFrame\n",
    "closed_df = pd.DataFrame(closed_itemsets)\n",
    "\n",
    "# Add Approximate Occurrences\n",
    "total_transactions = df.shape[0]  # Total number of transactions in your dataset\n",
    "closed_df['approx_occurrences'] = (closed_df['support'] * total_transactions).round().astype(int)\n",
    "\n",
    "# Save to CSV\n",
    "closed_df.to_csv('data/closed_itemsets.csv', index=False)\n",
    "\n",
    "# Display output summaries\n",
    "print(\"\\n Closed Itemsets:\\n\")\n",
    "print(closed_df[['support', 'itemsets', 'approx_occurrences']])\n",
    "\n",
    "print(\"\\nTotal Number of Closed Itemsets:\", len(closed_df))"
   ]
  },
  {
   "cell_type": "markdown",
   "id": "bc78a9fc",
   "metadata": {},
   "source": [
    "## *Interpretation of Closed Frequent Itemsets*\n",
    "\n",
    "*We analyzed 3,000 simulated supermarket transactions using the Apriori algorithm to discover frequent itemsets, and then filtered the results to find closed frequent itemsets. This method helped eliminate redundant patterns while preserving essential support information.*\n",
    "\n",
    "---\n",
    "\n",
    "### *What Are Closed Itemsets?*\n",
    "\n",
    "*A closed itemset is a frequent itemset for which no superset has the same support. In other words, you can't add more items to the set without lowering how often it appears. Closed itemsets are valuable because they:*\n",
    "\n",
    "*- Represent non-redundant patterns*\n",
    "*- Preserve support values for all items*\n",
    "*- Provide compact but complete summaries of frequent patterns*\n",
    "\n",
    "---\n",
    "\n",
    "### *Summary of Results*\n",
    "\n",
    "*We identified:*\n",
    "\n",
    "*- 30 closed frequent itemsets*\n",
    "*- Top 10 are all single items*\n",
    "*- Support values range between 0.06 and 18%*\n",
    "\n",
    "#### *Top 10 Closed Itemsets*\n",
    "\n",
    "| Rank | Support   | Itemsets   | Approx. Occurrences |\n",
    "|------|-----------|------------|----------------------|\n",
    "| 1    | 0.180333  | (Soda)     | 541                  |\n",
    "| 2    | 0.179333  | (Chips)    | 538                  |\n",
    "| 3    | 0.173000  | (Cookies)  | 519                  |\n",
    "| 4    | 0.165000  | (Bread)    | 495                  |\n",
    "| 5    | 0.163000  | (Milk)     | 489                  |\n",
    "| 6    | 0.162667  | (Cheese)   | 488                  |\n",
    "| 7    | 0.161000  | (Bananas)  | 483                  |\n",
    "| 8    | 0.157333  | (Eggs)     | 472                  |\n",
    "| 9    | 0.153333  | (Apples)   | 460                  |\n",
    "| 10   | 0.151000  | (Butter)   | 453                  |\n",
    "\n",
    "**Total Number of Closed Itemsets:** 45\n",
    "\n",
    "\n",
    "\n",
    "### *Interpretation by Key Observations*\n",
    "\n",
    "#### *1. Most Closed Itemsets Are Single Products*\n",
    "\n",
    "*The top closed itemsets are individual items.*\n",
    "*This means these products are frequently purchased alone, not consistently paired with others.*\n",
    "*Their status as closed means that no frequent superset (e.g., Chips + Soda) occurs with the same frequency.*\n",
    "\n",
    "\n",
    "\n",
    "*These are strong independent sellers that customers purchase regularly, without always pairing them.*\n",
    "### *Insight:*\n",
    "---\n",
    "*Top 10 Closed Itemsets show the most frequent individual products in transactions.*\n",
    "*Soda, Chips, and Cookies are the top 3, each appearing in over 500 transactions.*\n",
    "*Single items dominate the highest support values, suggesting strong individual preferences.*\n",
    "\n",
    "*As we move lower in the list, combinations of items (e.g., Soda & Chips, Cookies & Chips) emerge.*\n",
    "*These combinations reflect common co-purchase patterns, such as snack combinations or breakfast items.*\n",
    "\n",
    "*The itemset (Soda, Cookies, Chips) still has a high support of 11.7%, indicating a significant number of customers buy these three together.*\n",
    "*This can inform store layout (placing items together), bundling strategies, and promotions.*\n",
    "\n",
    "*Support values range between 0.06 and 18%, which means the most frequent item (Soda) appears in 18% of all transactions, while the least frequent (Salt) appears in about 6%.*\n",
    "\n",
    "*Overall, this analysis reveals customer preferences, frequent co-purchases, and potential bundles, helping optimize inventory, marketing, and sales strategies.*\n",
    "\n",
    "\n"
   ]
  },
  {
   "cell_type": "markdown",
   "id": "2e193905",
   "metadata": {},
   "source": [
    "### *[Student: Snit]*\n",
    "## *Step 4: Identify Maximal Frequent Itemsets*"
   ]
  },
  {
   "cell_type": "code",
   "execution_count": 1190,
   "id": "e240fe36",
   "metadata": {},
   "outputs": [
    {
     "name": "stdout",
     "output_type": "stream",
     "text": [
      "\n",
      "*Maximal Frequent Itemsets:*\n",
      "      support                   itemsets  occurrences\n",
      "42  0.116667     (Soda, Cookies, Chips)          350\n",
      "31  0.107667              (Bread, Milk)          323\n",
      "43  0.100000     (Cheese, Eggs, Butter)          300\n",
      "44  0.094000  (Apples, Yogurt, Bananas)          282\n",
      "40  0.093333            (Rice, Chicken)          280\n",
      "8   0.083000                   (Onions)          249\n",
      "5   0.075667                    (Juice)          227\n",
      "27  0.072333                     (Fish)          217\n",
      "9   0.071667                    (Pasta)          215\n",
      "4   0.071333                 (Tomatoes)          214\n",
      "11  0.071000                   (Cereal)          213\n",
      "30  0.070333                      (Tea)          211\n",
      "14  0.069333                     (Beef)          208\n",
      "1   0.069000                (Ice Cream)          207\n",
      "28  0.068667                    (chips)          206\n",
      "15  0.068000                   (Pepper)          204\n",
      "6   0.067667                      (Oil)          203\n",
      "2   0.067333                 (Potatoes)          202\n",
      "18  0.066667                   (Coffee)          200\n",
      "25  0.066333                    (Sugar)          199\n",
      "24  0.065667                  (Carrots)          197\n",
      "26  0.064333                    (Flour)          193\n",
      "7   0.061333                     (Salt)          184\n",
      "\n",
      "*Number of Maximal Frequent Itemsets:* 23\n"
     ]
    }
   ],
   "source": [
    "# Identify Maximal Frequent Itemsets\n",
    "# An itemset is maximal if there is no frequent superset of it\n",
    "\n",
    "maximal_itemsets = []\n",
    "for i, row_i in frequent_itemsets.iterrows():\n",
    "    is_maximal = True\n",
    "    for j, row_j in frequent_itemsets.iterrows():\n",
    "        if row_i['itemsets'] < row_j['itemsets']:\n",
    "            is_maximal = False\n",
    "            break\n",
    "    if is_maximal:\n",
    "        maximal_itemsets.append(row_i)\n",
    "\n",
    "# Convert to DataFrame\n",
    "maximal_df = pd.DataFrame(maximal_itemsets)\n",
    "\n",
    "\n",
    "# Add approximate occurrence count\n",
    "total_transactions = len(df)  # Make sure 'df' is your original transaction DataFrame\n",
    "maximal_df['occurrences'] = (maximal_df['support'] * total_transactions).round().astype(int)\n",
    "\n",
    "# Save to CSV\n",
    "maximal_df.to_csv('maximal_itemsets.csv', index=False)\n",
    "\n",
    "# Display results\n",
    "print(\"\\n*Maximal Frequent Itemsets:*\\n\", maximal_df)\n",
    "print(\"\\n*Number of Maximal Frequent Itemsets:*\", len(maximal_df))\n"
   ]
  },
  {
   "cell_type": "markdown",
   "id": "7558fe36",
   "metadata": {},
   "source": [
    "\n",
    "*We analyzed 3,000 simulated supermarket transactions using the Apriori algorithm and identified* **_maximal frequent itemsets_** — *itemsets for which no frequent superset exists. These represent the* **_most specific, high-support patterns_** *that are not further extendable without falling below the support threshold.*\n",
    "\n",
    "---\n",
    "\n",
    "### *What Are Maximal Itemsets?*\n",
    "\n",
    "*A maximal frequent itemset is a frequent itemset that has* **_no frequent superset_**. *In simpler terms: you cannot add any more items to the set without its support dropping below the minimum threshold.*\n",
    "\n",
    "*They are valuable because they:*\n",
    "* *Represent the \"boundary\" of frequent patterns*\n",
    "* *Are* **_more compact_** *than closed itemsets*\n",
    "* *Omit internal structure (i.e., no support for subsets), focusing only on maximal combinations*\n",
    "\n",
    "---\n",
    "\n",
    "### *Summary of Results*\n",
    "\n",
    "*We identified:*\n",
    "* *23 maximal frequent itemsets*\n",
    "* *Top results include sets like (Soda, Cookies, Chips), (Cheese, Eggs, Butter), etc.*\n",
    "* *Support values range from* **_6.1% to 11.6%_**\n",
    "* *Approximate occurrence counts range from* **_184 to 350 transactions_**\n",
    "\n",
    "---\n",
    "\n",
    "### *Interpretation by Key Observations*\n",
    "\n",
    "#### *1. Strong Triplets Suggest Popular Bundles*\n",
    "\n",
    "*The itemset (Soda, Cookies, Chips) appears in 11.6% of transactions — a strong indicator of frequent snacking behavior.*\n",
    "\n",
    "*Likewise, (Cheese, Eggs, Butter) and (Apples, Yogurt, Bananas) suggest breakfast-related patterns.*\n",
    "\n",
    "**_Insight:_** *These patterns can inform bundle pricing or in-store co-location.*\n",
    "\n",
    "---\n",
    "\n",
    "#### *2. Maximal Itemsets Do Not Repeat Subsets*\n",
    "\n",
    "*Since maximal sets exclude all subsets that are also frequent, these sets are ideal when you need a concise summary of customer behavior.*\n",
    "\n",
    "**_Insight:_** *If you only need top-level patterns (not all sub-patterns), maximal itemsets are computationally efficient.*\n",
    "\n",
    "---\n",
    "\n",
    "#### *3. Some Maximal Sets Are Still Single Items*\n",
    "\n",
    "*Despite the algorithm's design, some high-frequency single items (like Juice, Fish, Tea) still appear as maximal because they are not part of any frequent superset.*\n",
    "\n",
    "**_Insight:_** *These items stand out individually and aren’t frequently bundled with others.*\n",
    "\n",
    "---\n",
    "\n",
    "### *Why Do Maximal and Closed Itemsets Sometimes Match?*\n",
    "\n",
    "*This happens when no frequent supersets exist above a certain support threshold.*\n",
    "\n",
    "*In our case, larger item combinations may be just below the support cut-off.*\n",
    "\n",
    "**_Solution:_** *Lowering `min_support` can uncover more multi-item combinations.*\n",
    "\n",
    "---\n",
    "\n",
    "### *Business Implications*\n",
    "\n",
    "* *Use strong maximal patterns (e.g., triplets) for marketing bundles*\n",
    "* *Monitor and restock individual high-frequency items*\n",
    "* *Avoid overcomplicating models when maximal itemsets suffice*\n",
    "* *Use in recommendation systems or layout optimization*\n",
    "\n",
    "---\n",
    "\n",
    "### *Conclusion*\n",
    "\n",
    "*Maximal itemsets provide a high-level, non-redundant summary of frequent item combinations. In this dataset, they revealed both individual product popularity and a few strong bundles. Their value lies in compactness and clarity, especially when deeper hierarchy isn’t required.*\n",
    "\n",
    "\n",
    "#### *Mathematically, we can summarize the relationships between these sets as follows:*\n",
    "\n",
    "### *Maximal ⊆ Closed ⊆ Frequent*\n",
    "\n",
    "### **Maximal Itemsets as Subsets of Closed Itemsets**\n",
    "\n",
    "- *('Apples', 'Bananas', 'Yogurt')* → *('Apples', 'Bananas', 'Yogurt')*\n",
    "- *('Bananas', 'Yogurt')* → *('Apples', 'Bananas', 'Yogurt')*\n",
    "- *('Bread', 'Milk')* → *('Bread', 'Milk')*\n",
    "- *('Butter', 'Cheese', 'Eggs')* → *('Butter', 'Cheese', 'Eggs')*\n",
    "- *('Cheese', 'Eggs')* → *('Butter', 'Cheese', 'Eggs')*\n",
    "- *('Chicken', 'Beans', 'Rice')* → *('Chicken', 'Beans', 'Rice')*\n",
    "- *('Chicken', 'Rice')* → *('Chicken', 'Beans', 'Rice')*\n",
    "- *('Chips', 'Cookies', 'Soda')* → *('Chips', 'Cookies', 'Soda')*\n",
    "- *('Chips', 'Cookies')* → *('Chips', 'Cookies', 'Soda')*\n",
    "- *('Chips', 'Soda')* → *('Chips', 'Cookies', 'Soda')*\n",
    "- *('Cookies', 'Soda')* → *('Chips', 'Cookies', 'Soda')*\n",
    "- *('Apples', 'Bananas')* → *('Apples', 'Bananas', 'Yogurt')*\n",
    "- *('Apples', 'Yogurt')* → *('Apples', 'Bananas', 'Yogurt')*\n",
    "- *('Bread',)* → *('Bread',)*\n",
    "- *('Butter', 'Cheese')* → *('Butter', 'Cheese', 'Eggs')*\n",
    "- *('Cheese',)* → *('Butter', 'Cheese', 'Eggs')*\n",
    "- *('Chicken', 'Beans')* → *('Chicken', 'Beans', 'Rice')*\n",
    "- *('Cookies',)* → *('Cookies',)*\n",
    "- *('Milk',)* → *('Milk',)*\n",
    "- *('Soda',)* → *('Soda',)*\n",
    "- *('Eggs',)* → *('Butter', 'Cheese', 'Eggs')*\n",
    "- *('Butter',)* → *('Butter', 'Cheese', 'Eggs')*\n",
    "- *('Chips',)* → *('Chips', 'Cookies', 'Soda')*\n",
    "```\n",
    "\n",
    "\n"
   ]
  }
 ],
 "metadata": {
  "kernelspec": {
   "display_name": "base",
   "language": "python",
   "name": "python3"
  },
  "language_info": {
   "codemirror_mode": {
    "name": "ipython",
    "version": 3
   },
   "file_extension": ".py",
   "mimetype": "text/x-python",
   "name": "python",
   "nbconvert_exporter": "python",
   "pygments_lexer": "ipython3",
   "version": "3.12.7"
  }
 },
 "nbformat": 4,
 "nbformat_minor": 5
}
